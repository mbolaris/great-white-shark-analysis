{
  "cells": [
    {
      "cell_type": "markdown",
      "metadata": {
        "colab_type": "text",
        "id": "view-in-github"
      },
      "source": [
        "<a href=\"https://colab.research.google.com/github/mbolaris/great-white-shark-analysis/blob/main/shark-analysis.ipynb\" target=\"_parent\"><img src=\"https://colab.research.google.com/assets/colab-badge.svg\" alt=\"Open In Colab\"/></a>"
      ]
    },
    {
      "cell_type": "markdown",
      "metadata": {
        "id": "-HRXW3hqGCbb"
      },
      "source": [
        "# Introduction\n",
        "This notebook presents an in-depth analysis of white shark movement data, with a focus on understanding the relationship between depth and Overall Dynamic Body Acceleration (ODBA) over time. Utilizing a rich dataset, the study aims to decipher patterns in shark behavior and energy expenditure. Through a combination visualization and analytical techniques, we explore how these magnificent creatures interact with their aquatic environment. Our findings have potential implications for marine biology, conservation efforts, and the broader ecological understanding of shark behaviors in their natural habitat."
      ]
    },
    {
      "cell_type": "markdown",
      "metadata": {},
      "source": [
        "## Data Overview\n",
        "\n",
        "- **Comment**: CEFAS 1 Female 4.5\n",
        "\n",
        "- **Tag ID**: A14243\n",
        "- **Firmware**: Version 3, Build Level 70\n",
        "- **Pressure Range**: 50 units\n",
        "- **Sensors Count**: 5\n",
        "- **Deployment Duration**: October 15, 2017, to November 30, 2017\n",
        "\n",
        "**Mission Parameters**\n",
        "- **Dive Termination**: 1.5% percentage, 7.5m depth\n",
        "- **Gravity Range**: 2g\n",
        "- **Operational Days**: 51\n",
        "\n",
        "**Data Sampling**\n",
        "- **Logging Rate**: 1 per minute\n",
        "- **Resolution**: 12 bits\n",
        "\n",
        "The dataset contains time-stamped measurements of pressure, temperature, and tri-axial acceleration. These metrics are used to assess the shark's movement behavior."
      ]
    },
    {
      "cell_type": "markdown",
      "metadata": {
        "id": "fU-GKX5UGCbh"
      },
      "source": [
        "# Analysis"
      ]
    },
    {
      "cell_type": "markdown",
      "metadata": {},
      "source": [
        "## Import Libraries"
      ]
    },
    {
      "cell_type": "code",
      "execution_count": null,
      "metadata": {},
      "outputs": [],
      "source": [
        "# Install Astral (if needed)\n",
        "%pip install astral\n",
        "\n",
        "# Standard library imports\n",
        "from datetime import datetime, timedelta\n",
        "import os\n",
        "import sys\n",
        "\n",
        "# Third-party imports\n",
        "import pandas as pd\n",
        "import numpy as np\n",
        "import matplotlib.pyplot as plt\n",
        "import matplotlib.dates as mdates\n",
        "from pytz import timezone\n",
        "from astral import LocationInfo\n",
        "from astral.sun import sun\n",
        "\n",
        "from matplotlib.colors import LinearSegmentedColormap"
      ]
    },
    {
      "cell_type": "markdown",
      "metadata": {
        "id": "c1z5E9O7GCbh"
      },
      "source": [
        "## Data Loading"
      ]
    },
    {
      "cell_type": "code",
      "execution_count": null,
      "metadata": {},
      "outputs": [],
      "source": [
        "# Check if the notebook is running on Google Colab\n",
        "running_on_colab = 'google.colab' in sys.modules\n",
        "\n",
        "if running_on_colab:\n",
        "    # Google Colab specific imports\n",
        "    from google.colab import auth, drive\n",
        "\n",
        "    # Authenticate and mount the drive\n",
        "    auth.authenticate_user()\n",
        "    drive.mount('/content/drive')\n",
        "    \n",
        "    # Set the base path for data on Google Drive\n",
        "    base_path = '/content/drive/MyDrive/shark-data/'\n",
        "else:\n",
        "    # Set the base path for local data\n",
        "    base_path = 'C:/shared/shark-data/'\n",
        "\n",
        "# Now you can load your data using the base path\n",
        "data_file_path = os.path.join(base_path, 'A14243_23-10-2017.csv')\n",
        "\n",
        "# Load the data\n",
        "data = pd.read_csv(data_file_path, skiprows=59)"
      ]
    },
    {
      "cell_type": "markdown",
      "metadata": {},
      "source": [
        "## Data Cleaning"
      ]
    },
    {
      "cell_type": "code",
      "execution_count": null,
      "metadata": {},
      "outputs": [],
      "source": [
        "import numpy as np\n",
        "import pandas as pd\n",
        "\n",
        "# Convert 'Time Stamp' to datetime and drop rows with invalid dates\n",
        "initial_count = data.shape[0]\n",
        "data['Time Stamp'] = pd.to_datetime(data['Time Stamp'], format='%d/%m/%y %H:%M', errors='coerce')\n",
        "dropped_due_to_timestamp = data[data['Time Stamp'].isna()].copy()\n",
        "data.dropna(subset=['Time Stamp'], inplace=True)\n",
        "\n",
        "# Clean the data by filtering out invalid pressure and temperature values\n",
        "conditions = (~data['Pressure'].isna()) & (data['Pressure'] != np.inf) & (data['Pressure'] != -np.inf) & \\\n",
        "            (~data['Temp'].isna()) & (data['Temp'] != np.inf) & (data['Temp'] != -np.inf)\n",
        "dropped_due_to_invalid_values = data[~conditions].copy()\n",
        "data = data[conditions]\n",
        "\n",
        "# Summary of dropped data\n",
        "print(f\"Total initial events: {initial_count}\")\n",
        "print(f\"Dropped due to invalid timestamps: {dropped_due_to_timestamp.shape[0]}\")\n",
        "print(f\"Dropped due to invalid Pressure/Temperature values: {dropped_due_to_invalid_values.shape[0]}\")\n",
        "print(f\"Remaining events after cleaning: {data.shape[0]}\")\n"
      ]
    },
    {
      "cell_type": "markdown",
      "metadata": {},
      "source": [
        "## Data Transformation"
      ]
    },
    {
      "cell_type": "markdown",
      "metadata": {},
      "source": [
        "### Calculating ODBA\n",
        "ODBA is calculated to represent shark's locomotor activity, serving as an energy expenditure proxy."
      ]
    },
    {
      "cell_type": "code",
      "execution_count": null,
      "metadata": {},
      "outputs": [],
      "source": [
        "# Calculate ODBA as the sum of the absolute values of the dynamic accelerations\n",
        "#data['ODBA'] = data[['X Axis', 'Y Axis', 'Z Axis']].abs().sum(axis=1)\n",
        "\n",
        "window_size = 5  # Set the window size for the running mean\n",
        "\n",
        "# Create temporary columns for adjusted values with running mean subtracted\n",
        "data['X_adj'] = data['X Axis'] - data['X Axis'].rolling(window=window_size).mean()\n",
        "data['Y_adj'] = data['Y Axis'] - data['Y Axis'].rolling(window=window_size).mean()\n",
        "data['Z_adj'] = data['Z Axis'] - data['Z Axis'].rolling(window=window_size).mean()\n",
        "\n",
        "# Now calculate ODBA using the adjusted values\n",
        "data['ODBA'] = data[['X_adj', 'Y_adj', 'Z_adj']].abs().sum(axis=1)\n",
        "\n",
        "# Drop the temporary columns if they are no longer needed\n",
        "data.drop(['X_adj', 'Y_adj', 'Z_adj'], axis=1, inplace=True)"
      ]
    },
    {
      "cell_type": "markdown",
      "metadata": {},
      "source": [
        "### Calculating Day-Night Cycle Times"
      ]
    },
    {
      "cell_type": "code",
      "execution_count": null,
      "metadata": {},
      "outputs": [],
      "source": [
        "# Define the location and timezone for sunrise/sunset calculations\n",
        "# Guadalupe Island Coordinates\n",
        "guadalupe_latitude = 29.020879\n",
        "guadalupe_longitude = -118.273103\n",
        "city = LocationInfo('Ensenada', 'Mexico', 'America/Tijuana', guadalupe_latitude, guadalupe_longitude)\n",
        "local_tz = timezone('America/Tijuana')\n",
        "\n",
        "# Convert 'Time Stamp' to datetime, if not already done\n",
        "data['Time Stamp'] = pd.to_datetime(data['Time Stamp'])\n",
        "\n",
        "# Prepare a dictionary to hold sunrise and sunset times\n",
        "sun_cycles = {}\n",
        "\n",
        "for date in data['Time Stamp'].dt.date.unique():\n",
        "    s = sun(city.observer, date=date, tzinfo=local_tz)\n",
        "    sun_cycles[date] = {'sunrise': s['sunrise'].replace(tzinfo=None),\n",
        "                        'sunset': s['sunset'].replace(tzinfo=None)}"
      ]
    },
    {
      "cell_type": "markdown",
      "metadata": {},
      "source": [
        "## Data Visualization"
      ]
    },
    {
      "cell_type": "markdown",
      "metadata": {
        "id": "FYx5yoMYGCbj"
      },
      "source": [
        "### Depth over Time with Temperature Color Coding and Day/Night Bands\n",
        "Depth over time graph, with temperature color-coding and day/night bands, illustrates how sharks' movement patterns are influenced by environmental and temporal factors."
      ]
    },
    {
      "cell_type": "code",
      "execution_count": null,
      "metadata": {
        "colab": {
          "base_uri": "https://localhost:8080/",
          "height": 731
        },
        "id": "vePtX48iGCbj",
        "outputId": "e0964a93-2502-446e-c456-593ad9607342"
      },
      "outputs": [],
      "source": [
        "# Initialize plot\n",
        "plt.figure(figsize=(20, 8))\n",
        "\n",
        "# Plot day-night bands using the sun_cycles dictionary\n",
        "for date, times in sun_cycles.items():\n",
        "    sunrise = times['sunrise']\n",
        "    sunset = times['sunset']\n",
        "    plt.axvspan(sunrise, sunset, color='#FFFF00', alpha=0.15, label='Day')\n",
        "    \n",
        "    # Handling the night span\n",
        "    if date != data['Time Stamp'].dt.date.max():\n",
        "        next_day_sunrise = sun_cycles[date + timedelta(days=1)]['sunrise']\n",
        "        plt.axvspan(sunset, next_day_sunrise, color='black', alpha=0.1, label='Night')\n",
        "\n",
        "# Use a predefined colormap\n",
        "cmap = plt.get_cmap('gist_rainbow', 100).reversed()\n",
        "norm = plt.Normalize(vmin=data['Temp'].min(), vmax=data['Temp'].max())\n",
        "\n",
        "# Plot depth data against time, colored by temperature\n",
        "sc = plt.scatter(data['Time Stamp'], data['Pressure'], c=data['Temp'], cmap=cmap, norm=norm, s=1, alpha=0.9)\n",
        "plt.gca().invert_yaxis()\n",
        "\n",
        "# Format the x-axis\n",
        "plt.gca().xaxis.set_major_formatter(mdates.DateFormatter('%d %b'))\n",
        "plt.gca().xaxis.set_major_locator(mdates.DayLocator(interval=1))\n",
        "\n",
        "# Only add the legend for day/night once\n",
        "handles, labels = plt.gca().get_legend_handles_labels()\n",
        "by_label = dict(zip(labels, handles))\n",
        "plt.legend(by_label.values(), by_label.keys(), loc='lower left')\n",
        "\n",
        "# Set plot titles and labels\n",
        "plt.title('Depth over Time with Temperature Color Coding and Day/Night Bands', fontsize=14)\n",
        "plt.xlabel('Time', fontsize=12)\n",
        "plt.ylabel('Depth (meters)', fontsize=12)\n",
        "\n",
        "# Increase the bottom margin to ensure the colorbar does not overlap with x-axis labels\n",
        "plt.subplots_adjust(bottom=0.25)\n",
        "\n",
        "# Adjust the position of the colorbar\n",
        "colorbar_axes = plt.gcf().add_axes([0.33, 0.1, 0.33, 0.02])\n",
        "\n",
        "# Create the colorbar with the specified axes and orientation\n",
        "cbar = plt.colorbar(sc, cax=colorbar_axes, orientation='horizontal')\n",
        "\n",
        "# Set the label for the colorbar\n",
        "cbar.set_label('Temperature (°C)', fontsize=12)\n",
        "\n",
        "# Show the plot\n",
        "plt.show()"
      ]
    },
    {
      "cell_type": "markdown",
      "metadata": {},
      "source": [
        "### ODBA over Time with Day/Night Bands\n",
        "The graph shows sharks' Overall Dynamic Body Acceleration (ODBA) over time, marked with day (yellow) and night (black) bands."
      ]
    },
    {
      "cell_type": "code",
      "execution_count": null,
      "metadata": {},
      "outputs": [],
      "source": [
        "# Initialize plot\n",
        "plt.figure(figsize=(20, 8))\n",
        "\n",
        "# Plot day-night bands using the sun_cycles dictionary\n",
        "for date, times in sun_cycles.items():\n",
        "    sunrise = times['sunrise']\n",
        "    sunset = times['sunset']\n",
        "    plt.axvspan(sunrise, sunset, color='#FFFF00', alpha=0.15, label='Day')\n",
        "    \n",
        "    # Handling the night span\n",
        "    if date != data['Time Stamp'].dt.date.max():\n",
        "        next_day_sunrise = sun_cycles[date + timedelta(days=1)]['sunrise']\n",
        "        plt.axvspan(sunset, next_day_sunrise, color='black', alpha=0.1, label='Night')\n",
        "\n",
        "resampled_data = data.resample('min', on='Time Stamp').mean()\n",
        "\n",
        "\n",
        "# Calculate the moving average of ODBA with a window size\n",
        "window_size = 5  \n",
        "odba_moving_average = resampled_data['ODBA'].rolling(window=window_size).mean()\n",
        "\n",
        "# Plot the moving average ODBA line\n",
        "plt.plot(resampled_data.index, odba_moving_average, color='grey', alpha=0.5, label='Moving Average')\n",
        "\n",
        "cmap = plt.get_cmap('gist_rainbow', 100).reversed()\n",
        "lower_percentile = 2  \n",
        "upper_percentile = 98  \n",
        "lower_bound = data['ODBA'].quantile(lower_percentile / 100)\n",
        "upper_bound = data['ODBA'].quantile(upper_percentile / 100)\n",
        "norm = plt.Normalize(vmin=lower_bound, vmax=upper_bound)\n",
        "\n",
        "# Scatter plot for ODBA values over time\n",
        "plt.scatter(resampled_data.index, resampled_data['ODBA'], s=5, alpha=0.9,\n",
        "                      c=resampled_data['ODBA'], cmap=cmap, norm=norm, edgecolor='none', label='ODBA')\n",
        "\n",
        "# Format the x-axis\n",
        "plt.gca().xaxis.set_major_formatter(mdates.DateFormatter('%d %b'))\n",
        "plt.gca().xaxis.set_major_locator(mdates.DayLocator(interval=1))\n",
        "\n",
        "# Only add the legend for day/night once\n",
        "handles, labels = plt.gca().get_legend_handles_labels()\n",
        "by_label = dict(zip(labels, handles))\n",
        "plt.legend(by_label.values(), by_label.keys(), loc='upper left')\n",
        "\n",
        "# Set plot titles and labels\n",
        "plt.title('ODBA Over Time with Day/Night Bands', fontsize=14)\n",
        "plt.xlabel('Time', fontsize=12)\n",
        "plt.ylabel('ODBA (g)', fontsize=12)\n",
        "\n",
        "# Increase the bottom margin to ensure the colorbar does not overlap with x-axis labels\n",
        "plt.subplots_adjust(bottom=0.25)\n",
        "\n",
        "# Adjust the position of the colorbar\n",
        "colorbar_axes = plt.gcf().add_axes([0.33, 0.1, 0.33, 0.02])\n",
        "\n",
        "# Create the colorbar with the specified axes and orientation\n",
        "cbar = plt.colorbar(sc, cax=colorbar_axes, orientation='horizontal')\n",
        "\n",
        "# Set the label for the colorbar\n",
        "cbar.set_label('ODBA (g)', fontsize=12)\n",
        "\n",
        "# Show the plot\n",
        "plt.show()"
      ]
    },
    {
      "cell_type": "code",
      "execution_count": null,
      "metadata": {},
      "outputs": [],
      "source": [
        "# Initialize plot\n",
        "plt.figure(figsize=(20, 8))\n",
        "\n",
        "# Plot day-night bands using the sun_cycles dictionary\n",
        "for date, times in sun_cycles.items():\n",
        "    sunrise = times['sunrise']\n",
        "    sunset = times['sunset']\n",
        "    plt.axvspan(sunrise, sunset, color='#FFFF00', alpha=0.15, label='Day')\n",
        "    \n",
        "    # Handling the night span\n",
        "    if date != data['Time Stamp'].dt.date.max():\n",
        "        next_day_sunrise = sun_cycles[date + timedelta(days=1)]['sunrise']\n",
        "        plt.axvspan(sunset, next_day_sunrise, color='black', alpha=0.1, label='Night')\n",
        "\n",
        "# Use a predefined colormap\n",
        "cmap = plt.get_cmap('gist_rainbow', 100).reversed()\n",
        "lower_percentile = 2  \n",
        "upper_percentile = 98  \n",
        "lower_bound = data['ODBA'].quantile(lower_percentile / 100)\n",
        "upper_bound = data['ODBA'].quantile(upper_percentile / 100)\n",
        "norm = plt.Normalize(vmin=lower_bound, vmax=upper_bound)\n",
        "\n",
        "# Plot depth data against time, colored by temperature\n",
        "sc = plt.scatter(data['Time Stamp'], data['Pressure'], c=data['ODBA'], cmap=cmap, norm=norm, s=1, alpha=1.0)\n",
        "plt.gca().invert_yaxis()\n",
        "\n",
        "# Format the x-axis\n",
        "plt.gca().xaxis.set_major_formatter(mdates.DateFormatter('%d %b'))\n",
        "plt.gca().xaxis.set_major_locator(mdates.DayLocator(interval=1))\n",
        "\n",
        "# Only add the legend for day/night once\n",
        "handles, labels = plt.gca().get_legend_handles_labels()\n",
        "by_label = dict(zip(labels, handles))\n",
        "plt.legend(by_label.values(), by_label.keys(), loc='lower left')\n",
        "\n",
        "# Set plot titles and labels\n",
        "plt.title('Depth over Time with ODBA Color Coding and Day/Night Bands', fontsize=14)\n",
        "plt.xlabel('Time', fontsize=12)\n",
        "plt.ylabel('Depth (meters)', fontsize=12)\n",
        "\n",
        "# Increase the bottom margin to ensure the colorbar does not overlap with x-axis labels\n",
        "plt.subplots_adjust(bottom=0.25)\n",
        "\n",
        "# Adjust the position of the colorbar\n",
        "colorbar_axes = plt.gcf().add_axes([0.33, 0.1, 0.33, 0.02])\n",
        "\n",
        "# Create the colorbar with the specified axes and orientation\n",
        "cbar = plt.colorbar(sc, cax=colorbar_axes, orientation='horizontal')\n",
        "\n",
        "# Set the label for the colorbar\n",
        "cbar.set_label('ODBA (g)', fontsize=12)\n",
        "\n",
        "# Show the plot\n",
        "plt.show()"
      ]
    },
    {
      "cell_type": "code",
      "execution_count": null,
      "metadata": {},
      "outputs": [],
      "source": [
        "# Create a subplot layout\n",
        "fig, axs = plt.subplots(3, 1, figsize=(20, 12), sharex=True)\n",
        "\n",
        "# Store the day/night patches for the legend\n",
        "day_patch = None\n",
        "night_patch = None\n",
        "\n",
        "cmap = plt.get_cmap('gist_rainbow', 100).reversed()\n",
        "lower_percentile = 2  \n",
        "upper_percentile = 98  \n",
        "lower_bound = data['ODBA'].quantile(lower_percentile / 100)\n",
        "upper_bound = data['ODBA'].quantile(upper_percentile / 100)\n",
        "norm = plt.Normalize(vmin=lower_bound, vmax=upper_bound)\n",
        "\n",
        "for i, axis in enumerate(['X Axis', 'Y Axis', 'Z Axis']):\n",
        "    # Plot day-night bands using the sun_cycles dictionary\n",
        "    for date, times in sun_cycles.items():\n",
        "        sunrise = times['sunrise']\n",
        "        sunset = times['sunset']\n",
        "        day_patch = axs[i].axvspan(sunrise, sunset, color='#FFFF00', alpha=0.15)\n",
        "        if date != data['Time Stamp'].dt.date.max():\n",
        "            next_day_sunrise = sun_cycles[date + timedelta(days=1)]['sunrise']\n",
        "            night_patch = axs[i].axvspan(sunset, next_day_sunrise, color='black', alpha=0.1)\n",
        "\n",
        "    # Scatter plot for color-coded temperature data\n",
        "    sc = axs[i].scatter(data['Time Stamp'], data[axis], c=data['ODBA'], cmap=cmap, norm=norm, s=1, alpha=1.0)\n",
        "\n",
        "    axs[i].set_ylabel(f'{axis} (g)')\n",
        "    axs[i].grid(True)\n",
        "\n",
        "    # Format the x-axis\n",
        "    axs[i].xaxis.set_major_formatter(mdates.DateFormatter('%d %b'))\n",
        "    axs[i].xaxis.set_major_locator(mdates.DayLocator(interval=1))\n",
        "\n",
        "# Add a legend for day and night bands\n",
        "axs[0].legend([day_patch, night_patch], ['Day', 'Night'], loc='upper right')\n",
        "\n",
        "# Set common X-Axis properties\n",
        "axs[-1].set_xlabel('Time')\n",
        "\n",
        "# Set the title for the entire figure\n",
        "fig.suptitle('Axis Values Over Time with ODBA Color Coding and Day/Night Bands', fontsize=16)\n",
        "\n",
        "# Increase the bottom margin to ensure the colorbar does not overlap with x-axis labels\n",
        "plt.subplots_adjust(bottom=0.25)\n",
        "\n",
        "# Adjust the position of the colorbar\n",
        "# These values are fractions of the figure size. (left, bottom, width, height)\n",
        "colorbar_axes = fig.add_axes([0.333, 0.05, 0.333, 0.015])\n",
        "\n",
        "# Create the colorbar with the specified axes and orientation\n",
        "cbar = plt.colorbar(sc, cax=colorbar_axes, orientation='horizontal')\n",
        "cbar.set_label('ODBA (g)', fontsize=12)\n",
        "\n",
        "# Set the grid for better readability\n",
        "for ax in axs:\n",
        "    ax.grid(True)\n",
        "\n",
        "# Adjust layout\n",
        "fig.subplots_adjust(bottom=0.15, top=0.85)\n",
        "\n",
        "# Show the plot\n",
        "plt.show()"
      ]
    }
  ],
  "metadata": {
    "colab": {
      "include_colab_link": true,
      "provenance": []
    },
    "kernelspec": {
      "display_name": "Python 3",
      "language": "python",
      "name": "python3"
    },
    "language_info": {
      "codemirror_mode": {
        "name": "ipython",
        "version": 3
      },
      "file_extension": ".py",
      "mimetype": "text/x-python",
      "name": "python",
      "nbconvert_exporter": "python",
      "pygments_lexer": "ipython3",
      "version": "3.11.1"
    }
  },
  "nbformat": 4,
  "nbformat_minor": 0
}
